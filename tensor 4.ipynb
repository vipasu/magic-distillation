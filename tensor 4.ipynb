{
 "cells": [
  {
   "cell_type": "code",
   "execution_count": 123,
   "metadata": {},
   "outputs": [],
   "source": [
    "from distill_circuit import *"
   ]
  },
  {
   "cell_type": "code",
   "execution_count": 124,
   "metadata": {},
   "outputs": [],
   "source": [
    "zero_state = statevector.Statevector(np.array([1, 0]))\n",
    "one_state = statevector.Statevector(np.array([0, 1]))\n",
    "eps = .5\n",
    "alpha = .888\n",
    "beta = np.sqrt(1 - alpha**2)\n",
    "ghz_phase_4 = alpha * tensor_n(zero_state, 4) +  np.exp(1j*np.pi/4) * beta * tensor_n(one_state, 4)\n",
    "single_qubit = alpha * zero_state + np.exp(1j * np.pi/4) * beta * one_state\n"
   ]
  },
  {
   "cell_type": "code",
   "execution_count": 125,
   "metadata": {},
   "outputs": [
    {
     "name": "stdout",
     "output_type": "stream",
     "text": [
      "8.351736717161451e-15\n",
      "-8.812277115670816e-17\n",
      "-3.4858950737046394e-17\n",
      "1.74294753685232e-17\n",
      "1.2513800294525501e-18\n",
      "6.162975822039155e-33\n",
      "9.340427698987875e-18\n",
      "-8.089047669535322e-18\n",
      "-1.74294753685232e-17\n",
      "-5.103704607611704e-17\n"
     ]
    },
    {
     "data": {
      "text/plain": [
       "DensityMatrix([[0.78867513-5.56679702e-13j, 0.28867513-2.88675135e-01j],\n",
       "               [0.28867513+2.88675135e-01j, 0.21132487-1.49151524e-13j]],\n",
       "              dims=(2,))"
      ]
     },
     "execution_count": 125,
     "metadata": {},
     "output_type": "execute_result"
    }
   ],
   "source": [
    "repeat_distill(single_qubit, 10)"
   ]
  },
  {
   "cell_type": "code",
   "execution_count": 126,
   "metadata": {},
   "outputs": [],
   "source": [
    "bk_input1 = ghz_phase_4.tensor(single_qubit)\n",
    "bk_input1;"
   ]
  },
  {
   "cell_type": "code",
   "execution_count": 127,
   "metadata": {},
   "outputs": [],
   "source": [
    "bk_input2 = single_qubit.tensor(ghz_phase_4)\n",
    "bk_input2;"
   ]
  },
  {
   "cell_type": "code",
   "execution_count": 128,
   "metadata": {},
   "outputs": [],
   "source": [
    "bk_input3 = ghz_phase_4.tensor(zero_state)\n",
    "bk_input3;"
   ]
  },
  {
   "cell_type": "code",
   "execution_count": 129,
   "metadata": {},
   "outputs": [],
   "source": [
    "bk_input4 = zero_state.tensor(ghz_phase_4)\n",
    "bk_input4;"
   ]
  },
  {
   "cell_type": "code",
   "execution_count": 130,
   "metadata": {},
   "outputs": [
    {
     "name": "stdout",
     "output_type": "stream",
     "text": [
      "Bravyi Kitaev on ghz phase states\n",
      "0.7886751345948129\n"
     ]
    }
   ],
   "source": [
    "print(\"Bravyi Kitaev on ghz phase states\")\n",
    "ghz_output = distill(bk_input1)\n",
    "ghz_out_qubit1 =  qi.partial_trace(ghz_output, range(4))\n",
    "print(magic_fidelity(ghz_out_qubit, 1))"
   ]
  },
  {
   "cell_type": "code",
   "execution_count": 131,
   "metadata": {},
   "outputs": [
    {
     "name": "stdout",
     "output_type": "stream",
     "text": [
      "0.21132486540518716\n",
      "0.7886751345948129\n",
      "0.2113248654051871\n",
      "0.7886751345948129\n",
      "0.2113248654051871\n",
      "0.788675134594813\n",
      "0.2113248654051871\n",
      "0.788675134594813\n",
      "0.2113248654051871\n",
      "0.7886751345948129\n"
     ]
    },
    {
     "data": {
      "text/plain": [
       "DensityMatrix([[ 0.5-1.30166426e-10j, -0.5+1.30166426e-10j],\n",
       "               [-0.5+1.30166426e-10j,  0.5-1.30166426e-10j]],\n",
       "              dims=(2,))"
      ]
     },
     "execution_count": 131,
     "metadata": {},
     "output_type": "execute_result"
    }
   ],
   "source": [
    "rdm = ghz_out_qubit4 # zero tensor ghz 4 non-local magic\n",
    "repeat_distill(rdm, 10)"
   ]
  },
  {
   "cell_type": "code",
   "execution_count": 132,
   "metadata": {
    "scrolled": true
   },
   "outputs": [
    {
     "name": "stdout",
     "output_type": "stream",
     "text": [
      "0.09573458334665437\n",
      "0.09842994310331285\n",
      "0.10298912118334404\n",
      "0.11075669239033431\n",
      "0.12408812230514155\n",
      "0.1469619004380566\n",
      "0.18494592741122556\n",
      "0.24048100410078038\n",
      "0.29842643875970615\n",
      "0.3286362311270436\n"
     ]
    },
    {
     "data": {
      "text/plain": [
       "DensityMatrix([[ 0.79069825+1.86599891e-10j, -0.28458575-2.90698254e-01j],\n",
       "               [-0.28458575+2.90698254e-01j,  0.20930175+4.93937356e-11j]],\n",
       "              dims=(2,))"
      ]
     },
     "execution_count": 132,
     "metadata": {},
     "output_type": "execute_result"
    }
   ],
   "source": [
    "rdm = ghz_out_qubit2 # magic q tensor ghz 4 non-local magic\n",
    "repeat_distill(rdm, 10)"
   ]
  },
  {
   "cell_type": "code",
   "execution_count": 133,
   "metadata": {
    "scrolled": true
   },
   "outputs": [
    {
     "name": "stdout",
     "output_type": "stream",
     "text": [
      "0.33333324737144543\n",
      "0.33333333333330567\n",
      "0.33333333333333337\n",
      "0.3333333333333333\n",
      "0.33333333333333337\n",
      "0.3333333333333333\n",
      "0.33333333333333337\n",
      "0.3333333333333334\n",
      "0.3333333333333334\n",
      "0.33333333333333337\n"
     ]
    },
    {
     "data": {
      "text/plain": [
       "DensityMatrix([[ 0.78867513+4.01357697e-11j, -0.28867513-2.88675135e-01j],\n",
       "               [-0.28867513+2.88675135e-01j,  0.21132487+1.07543557e-11j]],\n",
       "              dims=(2,))"
      ]
     },
     "execution_count": 133,
     "metadata": {},
     "output_type": "execute_result"
    }
   ],
   "source": [
    "rdm = ghz_out_qubit1 # ghz 4 non-local magic tensor magic qubit\n",
    "repeat_distill(rdm, 10)"
   ]
  },
  {
   "cell_type": "code",
   "execution_count": null,
   "metadata": {},
   "outputs": [],
   "source": []
  }
 ],
 "metadata": {
  "kernelspec": {
   "display_name": "Python 3",
   "language": "python",
   "name": "python3"
  },
  "language_info": {
   "codemirror_mode": {
    "name": "ipython",
    "version": 3
   },
   "file_extension": ".py",
   "mimetype": "text/x-python",
   "name": "python",
   "nbconvert_exporter": "python",
   "pygments_lexer": "ipython3",
   "version": "3.7.6"
  }
 },
 "nbformat": 4,
 "nbformat_minor": 4
}
