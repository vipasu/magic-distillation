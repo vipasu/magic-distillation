{
 "cells": [
  {
   "cell_type": "code",
   "execution_count": 77,
   "metadata": {},
   "outputs": [],
   "source": [
    "import qiskit\n",
    "import numpy as np\n",
    "import qiskit.quantum_info as qi\n",
    "from qiskit.quantum_info.operators import Operator"
   ]
  },
  {
   "cell_type": "code",
   "execution_count": 78,
   "metadata": {},
   "outputs": [],
   "source": [
    "I = [[1,0],[0, 1]]\n",
    "Z = qi.Pauli.pauli_single(1, 0, \"Z\").to_matrix()\n",
    "Y = qi.Pauli.pauli_single(1, 0, \"Y\").to_matrix()\n",
    "X = qi.Pauli.pauli_single(1, 0, \"X\").to_matrix()"
   ]
  },
  {
   "cell_type": "code",
   "execution_count": 87,
   "metadata": {},
   "outputs": [],
   "source": [
    "# construct magic state on single qubit\n",
    "t0 = 1/2 * qi.DensityMatrix(I + 1/np.sqrt(3)*(X + Y + Z))\n",
    "t1 = 1/2 * qi.DensityMatrix(I - 1/np.sqrt(3)*(X + Y + Z))\n",
    "eps = .2\n",
    "rho_t = (1-eps) * t0 + eps * t1\n",
    "\n",
    "# tensor product to get the full input state\n",
    "state = rho_t.copy()\n",
    "N = 5 # number of qubits\n",
    "for i in range(N-1):\n",
    "    state = state.tensor(rho_t)"
   ]
  },
  {
   "cell_type": "code",
   "execution_count": 88,
   "metadata": {},
   "outputs": [
    {
     "data": {
      "text/plain": [
       "<qiskit.circuit.instructionset.InstructionSet at 0x7fc149e21fd0>"
      ]
     },
     "execution_count": 88,
     "metadata": {},
     "output_type": "execute_result"
    }
   ],
   "source": [
    "# construct circuit\n",
    "circuit = qiskit.QuantumCircuit(N)\n",
    "# layer 1\n",
    "circuit.cz(3, 0)\n",
    "circuit.cz(3, 2)\n",
    "circuit.cx(3, 4)\n",
    "circuit.cz(3, 4)\n",
    "\n",
    "\n",
    "\n",
    "# layer 2\n",
    "circuit.cz(2, 0)\n",
    "circuit.cz(2, 1)\n",
    "circuit.cx(2, 4)\n",
    "# layer 3\n",
    "circuit.cx(1, 4)\n",
    "# layer 4\n",
    "circuit.cx(0, 4)\n",
    "circuit.cz(0, 4)\n",
    "\n",
    "\n",
    "# layer 5\n",
    "circuit.z(0)\n",
    "circuit.z(3)\n",
    "circuit.z(4)\n",
    "\n",
    "circuit.h(0)\n",
    "# circuit.x(1)\n",
    "circuit.h(1)\n",
    "circuit.h(2)\n",
    "circuit.h(3)\n",
    "circuit.h(4)\n",
    "\n",
    "circuit.y(4)"
   ]
  },
  {
   "cell_type": "code",
   "execution_count": 89,
   "metadata": {},
   "outputs": [
    {
     "name": "stdout",
     "output_type": "stream",
     "text": [
      "                                               ┌───┐┌───┐     \n",
      "q_0: ─■──────■───────────────────────────■───■─┤ Z ├┤ H ├─────\n",
      "      │      │                    ┌───┐  │   │ └───┘└───┘     \n",
      "q_1: ─┼──────┼───■─────────────■──┤ H ├──┼───┼────────────────\n",
      "      │      │   │      ┌───┐  │  └───┘  │   │                \n",
      "q_2: ─┼──■───■───■───■──┤ H ├──┼─────────┼───┼────────────────\n",
      "      │  │           │  ├───┤  │  ┌───┐  │   │                \n",
      "q_3: ─■──■───■───■───┼──┤ Z ├──┼──┤ H ├──┼───┼────────────────\n",
      "           ┌─┴─┐ │ ┌─┴─┐└───┘┌─┴─┐└───┘┌─┴─┐ │ ┌───┐┌───┐┌───┐\n",
      "q_4: ──────┤ X ├─■─┤ X ├─────┤ X ├─────┤ X ├─■─┤ Z ├┤ H ├┤ Y ├\n",
      "           └───┘   └───┘     └───┘     └───┘   └───┘└───┘└───┘\n"
     ]
    }
   ],
   "source": [
    "print(circuit)"
   ]
  },
  {
   "cell_type": "code",
   "execution_count": 90,
   "metadata": {},
   "outputs": [
    {
     "name": "stdout",
     "output_type": "stream",
     "text": [
      "0.8000000066804441\n",
      "0.7747368490822446\n",
      "Initial T fidelity:  0.8000000066804441\n",
      "Final T fidelity:  0.7747368490822446\n"
     ]
    }
   ],
   "source": [
    "\n",
    "final_state = state.evolve(circuit)\n",
    "# check state of rdm on qubit 5\n",
    "\n",
    "# measure\n",
    "# check state of rdm on qubit 5\n",
    "while True:\n",
    "    string, dm = final_state.measure(range(4)) # measure first four bits\n",
    "    if string == '0000':\n",
    "        break\n",
    "# print(string)\n",
    "# string, dm = final_state.measure(range(4)) # measure first four bits\n",
    "\n",
    "\n",
    "rho_t_new = qi.partial_trace(dm, range(4))\n",
    "def magic_fidelity(dm):\n",
    "    return max(qi.state_fidelity(t0, dm), qi.state_fidelity(t1, dm))\n",
    "\n",
    "print(magic_fidelity(rho_t))\n",
    "print(magic_fidelity(rho_t_new))\n",
    "print(\"Initial T fidelity: \", qi.state_fidelity(t0, rho_t))\n",
    "print(\"Final T fidelity: \", qi.state_fidelity(t0, rho_t_new))"
   ]
  },
  {
   "cell_type": "code",
   "execution_count": null,
   "metadata": {},
   "outputs": [],
   "source": []
  },
  {
   "cell_type": "code",
   "execution_count": null,
   "metadata": {},
   "outputs": [],
   "source": []
  }
 ],
 "metadata": {
  "kernelspec": {
   "display_name": "Python 3",
   "language": "python",
   "name": "python3"
  },
  "language_info": {
   "codemirror_mode": {
    "name": "ipython",
    "version": 3
   },
   "file_extension": ".py",
   "mimetype": "text/x-python",
   "name": "python",
   "nbconvert_exporter": "python",
   "pygments_lexer": "ipython3",
   "version": "3.7.6"
  }
 },
 "nbformat": 4,
 "nbformat_minor": 4
}
